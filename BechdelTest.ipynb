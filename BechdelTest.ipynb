{
 "cells": [
  {
   "cell_type": "code",
   "execution_count": 1,
   "metadata": {},
   "outputs": [],
   "source": [
    "from IMSDB_Parser import IMSDB_Parser\n",
    "from lxml import etree\n",
    "from bs4 import BeautifulSoup\n",
    "import requests\n",
    "from nltk.tag import StanfordNERTagger\n",
    "import gender_guesser.detector as genderDetector\n",
    "import pickle\n",
    "import pandas as pd\n",
    "from itertools import groupby\n",
    "from collections import defaultdict, Counter\n",
    "from io import StringIO\n",
    "import re\n",
    "\n",
    "import logging\n",
    "logger = logging.getLogger()\n",
    "logging.basicConfig(filename=\"parsing.log\", level=logging.INFO)\n"
   ]
  },
  {
   "cell_type": "code",
   "execution_count": 2,
   "metadata": {},
   "outputs": [],
   "source": [
    "%load_ext watermark"
   ]
  },
  {
   "cell_type": "code",
   "execution_count": 3,
   "metadata": {},
   "outputs": [
    {
     "name": "stdout",
     "output_type": "stream",
     "text": [
      "Amr Mashlah \n",
      "last updated: 2018-12-31 \n",
      "\n",
      "CPython 3.5.6\n",
      "IPython 6.5.0\n",
      "\n",
      "nltk 3.3\n",
      "lxml unknown\n",
      "io unknown\n",
      "bs4 4.6.3\n",
      "requests 2.19.1\n",
      "gender_guesser unknown\n",
      "collections unknown\n",
      "re 2.2.1\n",
      "itertools unknown\n",
      "logging 0.5.1.2\n",
      "pickle unknown\n",
      "pandas 0.23.4\n"
     ]
    }
   ],
   "source": [
    "%watermark -a 'Amr Mashlah' -d -u -v -p nltk,lxml,io,bs4,requests,gender_guesser,collections,re,itertools,logging,pickle,pandas"
   ]
  },
  {
   "cell_type": "code",
   "execution_count": 4,
   "metadata": {},
   "outputs": [],
   "source": [
    "IMSDB_URL = \"https://www.imsdb.com\"\n",
    "ALL_SCRIPTS = \"/all%20scripts/\"\n",
    "NER_JAR = '/Users/amr/stanford-ner-2018-10-16/stanford-ner.jar'\n",
    "NLTK_MODEL = '/Users/amr/stanford-ner-2018-10-16/classifiers/english.all.3class.distsim.crf.ser.gz'\n",
    "st = StanfordNERTagger(NLTK_MODEL, NER_JAR, encoding='utf8')"
   ]
  },
  {
   "cell_type": "markdown",
   "metadata": {},
   "source": [
    "#### Bechdel test functions"
   ]
  },
  {
   "cell_type": "markdown",
   "metadata": {},
   "source": [
    "If provided, use cached results for gender detector and already checked bechdel tests"
   ]
  },
  {
   "cell_type": "code",
   "execution_count": 24,
   "metadata": {},
   "outputs": [],
   "source": [
    "try:\n",
    "    with open('gender_dict.pk', 'rb') as f:\n",
    "        gender_dict = pickle.load(f)\n",
    "except:\n",
    "    gender_dict = {}\n",
    "\n",
    "movies_results = defaultdict(dict)\n",
    "\n",
    "try:\n",
    "    with open('results.pk', 'rb') as f:\n",
    "        saved_movies_results = pickle.load(f) \n",
    "        \n",
    "    for key, value in saved_movies_results.items():\n",
    "        movies_results[key] = value\n",
    "except:\n",
    "    pass"
   ]
  },
  {
   "cell_type": "markdown",
   "metadata": {},
   "source": [
    "## Bechdel test functions"
   ]
  },
  {
   "cell_type": "code",
   "execution_count": 6,
   "metadata": {},
   "outputs": [],
   "source": [
    "def get_gender(x):\n",
    "    '''\n",
    "    Parameters\n",
    "    ----------\n",
    "    x: first name\n",
    "    \n",
    "    Returns\n",
    "    -------\n",
    "    gender: string {'male', 'female', 'unkown'}\n",
    "\n",
    "    '''\n",
    "    if gender_dict.get(x, None):\n",
    "        return gender_dict[x]\n",
    "    else:\n",
    "        \n",
    "        d = genderDetector.Detector()\n",
    "        gender = d.get_gender(x.lower().capitalize())\n",
    "        if gender == 'mostly_male':\n",
    "            gender = 'male'\n",
    "        if gender == 'mostly_female':\n",
    "            gender = 'female'\n",
    "            \n",
    "        gender_dict[x] = gender\n",
    "        \n",
    "        return gender\n",
    "\n",
    "\n",
    "def find_first_names(text):\n",
    "    '''\n",
    "    Extract first names from plain text\n",
    "\n",
    "    Parameters\n",
    "    ----------\n",
    "    text: Plain text\n",
    "    \n",
    "    Returns\n",
    "    -------\n",
    "    persons: list of first names found in text\n",
    "    \n",
    "    '''\n",
    "    tagged_entitites = st.tag(text.split())\n",
    "    persons = []\n",
    "    for tag, chunk in groupby(tagged_entitites, lambda x:x[1]):\n",
    "        if tag == \"PERSON\":\n",
    "            persons.append(list(chunk)[0][0])\n",
    "    return persons\n",
    "\n",
    "def male_mentioned(text):\n",
    "    '''\n",
    "    Scans for male names in a body of text\n",
    "    Parameters\n",
    "    ----------\n",
    "    Text: plain text\n",
    "    \n",
    "    Returns\n",
    "    -------\n",
    "    Boolean: \n",
    "    True if any male name were identified\n",
    "    '''\n",
    "    \n",
    "    males_binary = []\n",
    "    \n",
    "    first_names = find_first_names(text)\n",
    "    if first_names:\n",
    "        males_binary = [True for x in first_names if get_gender(x)== 'male' or get_gender(x) == 'mostly_male']\n",
    "    \n",
    "    return any(males_binary)\n",
    "        \n",
    "    \n",
    "\n",
    "def bechdel_condition(characters):\n",
    "    '''\n",
    "    Parameters\n",
    "    ----------\n",
    "    characters: list of strings\n",
    "    \n",
    "    Returns\n",
    "    -------\n",
    "    Boolean: True if satisfy Bechdel condition\n",
    "    \n",
    "    '''\n",
    "    if len(characters)<2:\n",
    "        return False\n",
    "    \n",
    "    if any([get_gender(x)== 'male' for x in characters]):\n",
    "        return False\n",
    "    \n",
    "    if sum([1 for x in characters if get_gender(x) == 'female']) > 1:\n",
    "        return True\n",
    "    \n",
    "    return False\n",
    "\n",
    "\n",
    "def bechdel_test(movie_parser, scenes, characters_sequence ,dialog_condition= False ,dialog =''):\n",
    "    '''\n",
    "    Performs full Bechdel test with the option to include or exclude dialog condition\n",
    "    \n",
    "    Parameters\n",
    "    ----------\n",
    "    scene: list of lists\n",
    "            list of scenes, each scene is a list of lines\n",
    "    characters_sequence: list of lists\n",
    "            contains actors appearing in each scene\n",
    "    dialog_condition: boolean, optional,\n",
    "            wheather to check the dialog between two women or not\n",
    "\n",
    "    Returns\n",
    "    -------\n",
    "    Boolean:\n",
    "        Wheather it pass the test or not\n",
    "    '''\n",
    "\n",
    "    \n",
    "    for i, (scene, characters) in enumerate(zip(scenes[1:], characters_sequence)):\n",
    "        if bechdel_condition(characters):\n",
    "\n",
    "            logging.info('Basic Bechdel condition satisfied with: {}, scene number: {}'.\\\n",
    "                      format(\" and \".join(characters), i))\n",
    "            if dialog_condition:    \n",
    "                dialog = movie_parser.dialog_from_scene(scene)\n",
    "                if dialog:\n",
    "                    if male_mentioned(dialog):\n",
    "                        continue\n",
    "                    logging.info('matching dialog: %s', dialog)\n",
    "                    return True\n",
    "                \n",
    "            return True\n",
    "               \n",
    "    return False"
   ]
  },
  {
   "cell_type": "markdown",
   "metadata": {},
   "source": [
    "### Get all scripts URL's"
   ]
  },
  {
   "cell_type": "code",
   "execution_count": 7,
   "metadata": {},
   "outputs": [],
   "source": [
    "r  = requests.get(IMSDB_URL + ALL_SCRIPTS)\n",
    "lxml_tree = etree.parse(StringIO(r.text), etree.HTMLParser())\n",
    "movie_titles = [ x.text for x in lxml_tree.xpath('''//p/a''')]"
   ]
  },
  {
   "cell_type": "markdown",
   "metadata": {},
   "source": [
    "### Parsing movie script\n",
    "\n"
   ]
  },
  {
   "cell_type": "code",
   "execution_count": 26,
   "metadata": {},
   "outputs": [],
   "source": [
    "for i, movie in enumerate(movie_titles):\n",
    "    \n",
    "    if movie in movies_results:\n",
    "        continue\n",
    "        \n",
    "        \n",
    "    logging.info('parsing movie number: {}, title: {}'.format(i, movie))\n",
    "    \n",
    "    movie_parser = IMSDB_Parser(movie)\n",
    "    \n",
    "    if movie_parser.lines:\n",
    "        \n",
    "        characters = movie_parser.characters\n",
    "        scenes = movie_parser.scenes\n",
    "        characters_sequence = movie_parser.characters_sequence\n",
    "        release_date = movie_parser.release_date\n",
    "        \n",
    "        basic_bechdel = bechdel_test(movie_parser, scenes, characters_sequence)\n",
    "        full_bechdel = bechdel_test(movie_parser, scenes, characters_sequence, dialog_condition=True)\n",
    "\n",
    "        movies_results[movie]['basic'] = basic_bechdel\n",
    "        movies_results[movie]['full'] = full_bechdel\n",
    "        movies_results[movie]['characters_seq'] = characters_sequence\n",
    "        movies_results[movie]['characters'] = characters\n",
    "        movies_results[movie]['release_date'] = release_date\n",
    "    "
   ]
  },
  {
   "cell_type": "markdown",
   "metadata": {},
   "source": [
    "### saving results and classified genders"
   ]
  },
  {
   "cell_type": "code",
   "execution_count": 27,
   "metadata": {},
   "outputs": [],
   "source": [
    "with open('results.pk', 'wb') as f:\n",
    "    pickle.dump({**movies_results}, f)\n",
    "\n",
    "with open('gender_dict.pk', 'wb') as f:\n",
    "    pickle.dump(gender_dict, f)"
   ]
  }
 ],
 "metadata": {
  "kernelspec": {
   "display_name": "Python 3",
   "language": "python",
   "name": "python3"
  },
  "language_info": {
   "codemirror_mode": {
    "name": "ipython",
    "version": 3
   },
   "file_extension": ".py",
   "mimetype": "text/x-python",
   "name": "python",
   "nbconvert_exporter": "python",
   "pygments_lexer": "ipython3",
   "version": "3.5.6"
  }
 },
 "nbformat": 4,
 "nbformat_minor": 2
}
